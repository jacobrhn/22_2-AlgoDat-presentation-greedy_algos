{
 "cells": [
  {
   "cell_type": "code",
   "execution_count": 7,
   "metadata": {},
   "outputs": [],
   "source": [
    "# Helper Cell\n",
    "\n",
    "\n",
    "def execute_change_algos(amount, denominations):\n",
    "    \"\"\"\n",
    "    Method to execute the greedy and dynamic change algorithms and print the results.\n",
    "    :param amount: The amount to make change for.\n",
    "    :param denominations: The denominations to use.\n",
    "    :return: None / Prints the results for easy comparison.\n",
    "    \"\"\"\n",
    "    greedy_change = make_change_greedy(amount=amount, denominations=denominations)\n",
    "    optimal_change = make_change_dynamic(amount=amount, denominations=denominations)\n",
    "    print(\"####### Change for {} #######\\nDenomination: {}\\n\\n Greedy:  {}\\n- Optimal: {}\".format(amount, \", \".join([str(x) for x in denominations]), greedy_change, optimal_change))\n",
    "    print(\"Greedy and optimal change are equal: {}\\n\".format(greedy_change == optimal_change))"
   ]
  },
  {
   "attachments": {},
   "cell_type": "markdown",
   "metadata": {},
   "source": [
    "Thema|Greedy Algortihms\n",
    "-----|----------------\n",
    "Datum|26.05.2023\n",
    "Vorlesung|Algorithmen und Datenstrukturen, WDS/WWI22A, SOSE 2023\n",
    "Dozent|Max Bergau\n",
    "Erarbeitet von|Gruppe 2: Mihabat Aeido, Samuel Butler, Tjark Gergken, Eric Harter, Jacob Ruhnau, Tom Warscheit\n",
    "\n",
    "\n",
    "\n",
    "## Implementation of algoritms to make change\n",
    "#### 1. Greedy algorithm"
   ]
  },
  {
   "cell_type": "code",
   "execution_count": 8,
   "metadata": {},
   "outputs": [],
   "source": [
    "def make_change_greedy(amount:int, denominations:list[int]) -> list:\n",
    "    \"\"\"\n",
    "    Return a list of coins that sum to amount, using the greedy algorithm\n",
    "    :param: amount: int: The amount of money to be changed.\n",
    "    :param: denominations: list: A list of coin denominations.\n",
    "    :return: list: A list of coins that sum to amount.\n",
    "    \"\"\"\n",
    "    denominations.sort(reverse=True)\n",
    "    coins = []\n",
    "    for coin in denominations:\n",
    "        while coin <= amount:\n",
    "            coins.append(coin)\n",
    "            amount -= coin\n",
    "    return coins\n"
   ]
  },
  {
   "attachments": {},
   "cell_type": "markdown",
   "metadata": {},
   "source": [
    "##### 2. Dynamic programming approach:"
   ]
  },
  {
   "cell_type": "code",
   "execution_count": 4,
   "metadata": {},
   "outputs": [],
   "source": [
    "def make_change_dynamic(amount:int, denominations:list[int]) -> list:\n",
    "    \"\"\"\n",
    "    Return the minimum amount of coins that sum to amount as list, using a dynamic programming apprioach\n",
    "    :param: amount: int: The amount of money to be changed.\n",
    "    :param: denominations: list: A list of coin denominations.\n",
    "    :return: list: A list of coins that sum to amount or raise a warning if it's not possible to make exact change.\n",
    "    \"\"\"\n",
    "    work_list = [float('inf')] * (amount + 1)\n",
    "    coins = [[] for _ in range(amount + 1)]\n",
    "    work_list[0] = 0\n",
    "\n",
    "    for i in range(1, amount + 1):\n",
    "        for coin in denominations:\n",
    "            if coin <= i:\n",
    "                if 1 + work_list[i - coin] < work_list[i]:\n",
    "                    work_list[i] = 1 + work_list[i - coin]\n",
    "                    coins[i] = coins[i - coin] + [coin]\n",
    "\n",
    "    if coins[amount] == []:\n",
    "        raise Warning(\"It's not possible to make exact change for {} with {} as available denominations\".format(amount, denominations))\n",
    "    else:\n",
    "        return sorted(coins[amount], reverse=True)\n"
   ]
  },
  {
   "cell_type": "code",
   "execution_count": 5,
   "metadata": {},
   "outputs": [
    {
     "name": "stdout",
     "output_type": "stream",
     "text": [
      "####### Change for 42 #######\n",
      "Denomination: 25, 10, 5, 1\n",
      "\n",
      " Greedy:  [25, 10, 5, 1, 1]\n",
      "- Optimal: [25, 10, 5, 1, 1]\n",
      "Greedy and optimal change are equal: True\n",
      "\n"
     ]
    }
   ],
   "source": [
    "execute_change_algos(amount=42, denominations=[1, 5, 10, 25])"
   ]
  },
  {
   "cell_type": "code",
   "execution_count": 6,
   "metadata": {},
   "outputs": [
    {
     "name": "stdout",
     "output_type": "stream",
     "text": [
      "####### Change for 40 #######\n",
      "Denomination: 25, 20, 10, 5\n",
      "\n",
      " Greedy:  [25, 10, 5]\n",
      "- Optimal: [20, 20]\n",
      "Greedy and optimal change are equal: False\n",
      "\n"
     ]
    }
   ],
   "source": [
    "execute_change_algos(amount=40, denominations=[5, 10, 20, 25])"
   ]
  }
 ],
 "metadata": {
  "kernelspec": {
   "display_name": "home",
   "language": "python",
   "name": "python3"
  },
  "language_info": {
   "codemirror_mode": {
    "name": "ipython",
    "version": 3
   },
   "file_extension": ".py",
   "mimetype": "text/x-python",
   "name": "python",
   "nbconvert_exporter": "python",
   "pygments_lexer": "ipython3",
   "version": "3.10.11"
  },
  "orig_nbformat": 4
 },
 "nbformat": 4,
 "nbformat_minor": 2
}
